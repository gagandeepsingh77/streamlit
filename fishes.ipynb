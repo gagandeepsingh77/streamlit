{
 "cells": [
  {
   "cell_type": "code",
   "execution_count": 1,
   "id": "77b09c82",
   "metadata": {},
   "outputs": [
    {
     "name": "stdout",
     "output_type": "stream",
     "text": [
      "Requirement already satisfied: bing-image-downloader in c:\\users\\lenovo\\anaconda3\\lib\\site-packages (1.1.2)\n",
      "Note: you may need to restart the kernel to use updated packages.\n"
     ]
    }
   ],
   "source": [
    "pip install bing-image-downloader"
   ]
  },
  {
   "cell_type": "code",
   "execution_count": 1,
   "id": "5e53abbe",
   "metadata": {},
   "outputs": [
    {
     "name": "stdout",
     "output_type": "stream",
     "text": [
      "[%] Downloading Images to C:\\Users\\lenovo\\Desktop\\fishes\\images\\hammerhead shark\n",
      "\n",
      "\n",
      "[!!]Indexing page: 1\n",
      "\n",
      "[%] Indexed 9 Images on Page 1.\n",
      "\n",
      "===============================================\n",
      "\n",
      "[%] Downloading Image #1 from http://wallpapersdsc.net/wp-content/uploads/2017/05/Hammerhead-Shark-Background-.jpg\n",
      "[%] File Downloaded !\n",
      "\n",
      "[%] Downloading Image #2 from https://otlibrary.com/wp-content/gallery/scalloped-hammerhead-shark/hammerhead-shark_2316048k.jpg\n",
      "[%] File Downloaded !\n",
      "\n",
      "[%] Downloading Image #3 from https://www.oceanlight.com/stock-photo/galapagos-hammerhead-sharks-schooling-image-16290-579284.jpg\n",
      "[%] File Downloaded !\n",
      "\n",
      "[%] Downloading Image #4 from http://www.wallpapers13.com/wp-content/uploads/2016/02/Sharks-fool-a-group-of-sharks-in-the-family-Sphyrnidae-heads-shaped-hammer-hd-wallpapers-for-desktop.jpg\n",
      "[%] File Downloaded !\n",
      "\n",
      "[%] Downloading Image #5 from http://cdn.sci-news.com/images/2013/11/image_1531f-Sphyrna-lewini.jpg\n",
      "[%] File Downloaded !\n",
      "\n",
      "[%] Downloading Image #6 from https://otlibrary.com/wp-content/gallery/golden-hammerhead-shark/hammerhead.jpg\n",
      "[!] Issue getting: https://otlibrary.com/wp-content/gallery/golden-hammerhead-shark/hammerhead.jpg\n",
      "[!] Error:: The read operation timed out\n",
      "[%] Downloading Image #6 from http://otlibrary.com/wp-content/gallery/golden-hammerhead-shark/goliu.JPG\n",
      "[%] File Downloaded !\n",
      "\n",
      "[%] Downloading Image #7 from http://www.wallpapers13.com/wp-content/uploads/2016/02/The-baked-noodle-Sphyrna-lewini-is-a-type-of-hammerhead-sharks-and-part-of-the-family-Sphyrnidae.jpg\n",
      "[%] File Downloaded !\n",
      "\n",
      "[%] Downloading Image #8 from http://www.elitefacts.com/files/images/1877.jpg\n",
      "[%] File Downloaded !\n",
      "\n",
      "\n",
      "\n",
      "[!!]Indexing page: 2\n",
      "\n",
      "[%] Indexed 9 Images on Page 2.\n",
      "\n",
      "===============================================\n",
      "\n",
      "[%] Downloading Image #9 from http://wallpapersdsc.net/wp-content/uploads/2017/05/Hammerhead-Shark-High-Definition.jpg\n",
      "[%] File Downloaded !\n",
      "\n",
      "[%] Downloading Image #10 from https://www.wallpapers13.com/wp-content/uploads/2016/02/Hammerhead-Shark-hd-wallpapers-for-mobile-phones-and-laptops-1024x640.jpg\n",
      "[!] Issue getting: https://www.wallpapers13.com/wp-content/uploads/2016/02/Hammerhead-Shark-hd-wallpapers-for-mobile-phones-and-laptops-1024x640.jpg\n",
      "[!] Error:: HTTP Error 404: Not Found\n",
      "[%] Downloading Image #10 from https://manabu-biology.com/wp-content/uploads/2019/01/scalloped-hammerhead.jpg\n",
      "[%] File Downloaded !\n",
      "\n",
      "[%] Downloading Image #11 from https://www.wallpapers13.com/wp-content/uploads/2016/02/Scalloped-Hammerhead-Shark-desktop-wallpaper-hd-for-mobile-phones-and-laptops.jpg\n",
      "[%] File Downloaded !\n",
      "\n",
      "[%] Downloading Image #12 from https://2.bp.blogspot.com/-mkzZDlF3PYE/UFc2Aw3bAOI/AAAAAAAAPUc/e86jaOYQ1rk/s1600/hammerhead.jpg\n",
      "[%] File Downloaded !\n",
      "\n",
      "[%] Downloading Image #13 from http://www.earthtouchnews.com/media/1085748/shark-page_GalleryLarge.jpg\n",
      "[%] File Downloaded !\n",
      "\n",
      "[%] Downloading Image #14 from http://extremesharkfacts.com/wp-content/uploads/2013/07/greatwhite4.jpg\n",
      "[%] File Downloaded !\n",
      "\n",
      "[%] Downloading Image #15 from https://ftw.usatoday.com/wp-content/uploads/sites/90/2020/11/hammerhead-shark.jpeg?w=1000&amp;h=576&amp;crop=1\n",
      "[%] File Downloaded !\n",
      "\n",
      "\n",
      "\n",
      "[%] Done. Downloaded 15 images.\n"
     ]
    }
   ],
   "source": [
    "from bing_image_downloader import downloader\n",
    "downloader.download(\"hammerhead shark\",limit=15,output_dir='images',adult_filter_off=True)"
   ]
  },
  {
   "cell_type": "code",
   "execution_count": 2,
   "id": "4243ee78",
   "metadata": {},
   "outputs": [
    {
     "name": "stdout",
     "output_type": "stream",
     "text": [
      "[%] Downloading Images to C:\\Users\\lenovo\\Desktop\\fishes\\images\\Most Beautiful Goldfish\n",
      "\n",
      "\n",
      "[!!]Indexing page: 1\n",
      "\n",
      "[%] Indexed 9 Images on Page 1.\n",
      "\n",
      "===============================================\n",
      "\n",
      "[%] Downloading Image #1 from https://i.pinimg.com/736x/64/9d/a2/649da24b482e7256f624264bef6ca5c2--fantail-goldfish-beautiful-fish.jpg\n",
      "[%] File Downloaded !\n",
      "\n",
      "[%] Downloading Image #2 from http://3.bp.blogspot.com/_ilb7qjFxJgc/TRWj9EofdXI/AAAAAAAAMbM/8aZtOrnDO9E/s1600/Bubble-Eye-Goldfish-017.jpg\n",
      "[%] File Downloaded !\n",
      "\n",
      "[%] Downloading Image #3 from https://i.ytimg.com/vi/Jud7IV9ABfs/maxresdefault.jpg\n",
      "[%] File Downloaded !\n",
      "\n",
      "[%] Downloading Image #4 from https://i.ytimg.com/vi/ooX5Q-Oc1Yw/maxresdefault.jpg\n",
      "[%] File Downloaded !\n",
      "\n",
      "[%] Downloading Image #5 from https://i.ytimg.com/vi/ysN7xoPQAoY/hqdefault.jpg\n",
      "[%] File Downloaded !\n",
      "\n",
      "[%] Downloading Image #6 from http://getwallpapers.com/wallpaper/full/8/5/4/822026-gold-fish-wallpaper-2880x1800-pictures.jpg\n",
      "[%] File Downloaded !\n",
      "\n",
      "[%] Downloading Image #7 from http://i1.ytimg.com/vi/GoMzFikCamA/maxresdefault.jpg\n",
      "[%] File Downloaded !\n",
      "\n",
      "[%] Downloading Image #8 from https://aquariumfish.net/images_01/bubble-eye-goldfish-151016b3-w0480.jpg\n",
      "[%] File Downloaded !\n",
      "\n",
      "[%] Downloading Image #9 from http://getwallpapers.com/wallpaper/full/3/6/f/1403883-koi-fish-wallpapers-1920x1080-for-desktop.jpg\n",
      "[%] File Downloaded !\n",
      "\n",
      "\n",
      "\n",
      "[!!]Indexing page: 2\n",
      "\n",
      "[%] Indexed 9 Images on Page 2.\n",
      "\n",
      "===============================================\n",
      "\n",
      "\n",
      "\n",
      "[!!]Indexing page: 3\n",
      "\n",
      "[%] Indexed 8 Images on Page 3.\n",
      "\n",
      "===============================================\n",
      "\n",
      "\n",
      "\n",
      "[!!]Indexing page: 4\n",
      "\n",
      "[%] Indexed 7 Images on Page 4.\n",
      "\n",
      "===============================================\n",
      "\n",
      "\n",
      "\n",
      "[!!]Indexing page: 5\n",
      "\n",
      "[%] Indexed 6 Images on Page 5.\n",
      "\n",
      "===============================================\n",
      "\n",
      "\n",
      "\n",
      "[!!]Indexing page: 6\n",
      "\n",
      "[%] Indexed 5 Images on Page 6.\n",
      "\n",
      "===============================================\n",
      "\n",
      "\n",
      "\n",
      "[!!]Indexing page: 7\n",
      "\n",
      "[%] Indexed 4 Images on Page 7.\n",
      "\n",
      "===============================================\n",
      "\n",
      "\n",
      "\n",
      "[!!]Indexing page: 8\n",
      "\n",
      "[%] Indexed 3 Images on Page 8.\n",
      "\n",
      "===============================================\n",
      "\n",
      "\n",
      "\n",
      "[!!]Indexing page: 9\n",
      "\n",
      "[%] Indexed 2 Images on Page 9.\n",
      "\n",
      "===============================================\n",
      "\n",
      "[%] Downloading Image #10 from https://petsvills.com/wp-content/uploads/2020/08/black-guinea-pig-names-p-480x720.jpg\n",
      "[%] File Downloaded !\n",
      "\n",
      "[%] Downloading Image #11 from https://vignette.wikia.nocookie.net/theadventuresofgarythesnail/images/a/a4/Hotel_Plaque.png/revision/latest?cb=20130203050430\n",
      "[%] File Downloaded !\n",
      "\n",
      "\n",
      "\n",
      "[!!]Indexing page: 10\n",
      "\n",
      "[%] Indexed 1 Images on Page 10.\n",
      "\n",
      "===============================================\n",
      "\n",
      "\n",
      "\n",
      "[!!]Indexing page: 11\n",
      "\n",
      "[%] Indexed 9 Images on Page 11.\n",
      "\n",
      "===============================================\n",
      "\n",
      "[%] Downloading Image #12 from http://1.bp.blogspot.com/_ilb7qjFxJgc/TRWj85mODVI/AAAAAAAAMa8/Zm4XY-PciTU/s1600/Bubble-Eye-Goldfish-019.jpg\n",
      "[%] File Downloaded !\n",
      "\n",
      "[%] Downloading Image #13 from http://3.bp.blogspot.com/-5oDvYHIyKxA/T4EoX7jMQuI/AAAAAAAADnA/s1hyH8dhs_I/s1600/koi-fish-08.jpg\n",
      "[%] File Downloaded !\n",
      "\n",
      "[%] Downloading Image #14 from http://3.bp.blogspot.com/_ilb7qjFxJgc/TRWj9YoqHfI/AAAAAAAAMbU/JLtkDkV56fg/s1600/Bubble-Eye-Goldfish-016.jpg\n",
      "[%] File Downloaded !\n",
      "\n",
      "[%] Downloading Image #15 from http://www.pixelstalk.net/wp-content/uploads/2016/04/Beautiful-ocean-fish-wallpaper-HD.jpg\n",
      "[%] File Downloaded !\n",
      "\n",
      "\n",
      "\n",
      "[%] Done. Downloaded 15 images.\n"
     ]
    }
   ],
   "source": [
    "from bing_image_downloader import downloader\n",
    "downloader.download(\"Most Beautiful Goldfish\",limit=15,output_dir='images',adult_filter_off=True)"
   ]
  },
  {
   "cell_type": "code",
   "execution_count": 3,
   "id": "14effae5",
   "metadata": {},
   "outputs": [
    {
     "name": "stdout",
     "output_type": "stream",
     "text": [
      "[%] Downloading Images to C:\\Users\\lenovo\\Desktop\\fishes\\images\\peppermint angelfish\n",
      "\n",
      "\n",
      "[!!]Indexing page: 1\n",
      "\n",
      "[%] Indexed 9 Images on Page 1.\n",
      "\n",
      "===============================================\n",
      "\n",
      "[%] Downloading Image #1 from https://www.reef2reef.com/ams/peppermint-angelfish-the-holy-grail-of-marine-angelfish.727/cover-image\n",
      "[%] File Downloaded !\n",
      "\n",
      "[%] Downloading Image #2 from https://i.pinimg.com/736x/8c/a6/a8/8ca6a8f9ce25125fad0b4a9b23d197a1--peppermint-angelfish.jpg\n",
      "[%] File Downloaded !\n",
      "\n",
      "[%] Downloading Image #3 from https://reefbuilders.com/wp-content/blogs.dir/1/files/peppermint-angelfish/peppermint-angel-4.jpg\n",
      "[%] File Downloaded !\n",
      "\n",
      "[%] Downloading Image #4 from https://reefbuilders.com/wp-content/blogs.dir/1/files/peppermint-angelfish/peppermint-angel-6.jpg\n",
      "[%] File Downloaded !\n",
      "\n",
      "[%] Downloading Image #5 from http://reefbuilders.com/wp-content/blogs.dir/1/files/peppermint-angelfish/peppermint-angel-5.jpg\n",
      "[%] File Downloaded !\n",
      "\n",
      "[%] Downloading Image #6 from https://cdn.reefs.com/blog/wp-content/uploads/2015/10/20673191559_84bea6f4dc_z.jpg\n",
      "[%] File Downloaded !\n",
      "\n",
      "[%] Downloading Image #7 from https://www.beautifullife.info/wp-content/uploads/2019/03/13/img_big/04_masked_angelfish_02.jpg\n",
      "[%] File Downloaded !\n",
      "\n",
      "[%] Downloading Image #8 from https://tropical-fish-keeping.com/wp-content/uploads/2015/06/Peppermint-Plecostomus-Parancistrus-sp-L-30..jpg\n",
      "[%] File Downloaded !\n",
      "\n",
      "[%] Downloading Image #9 from https://scitechdaily.com/images/Juvenile-Angelfish-Hybrid.jpg\n",
      "[%] File Downloaded !\n",
      "\n",
      "\n",
      "\n",
      "[!!]Indexing page: 2\n",
      "\n",
      "[%] Indexed 9 Images on Page 2.\n",
      "\n",
      "===============================================\n",
      "\n",
      "\n",
      "\n",
      "[!!]Indexing page: 3\n",
      "\n",
      "[%] Indexed 8 Images on Page 3.\n",
      "\n",
      "===============================================\n",
      "\n",
      "\n",
      "\n",
      "[!!]Indexing page: 4\n",
      "\n",
      "[%] Indexed 7 Images on Page 4.\n",
      "\n",
      "===============================================\n",
      "\n",
      "\n",
      "\n",
      "[!!]Indexing page: 5\n",
      "\n",
      "[%] Indexed 6 Images on Page 5.\n",
      "\n",
      "===============================================\n",
      "\n",
      "\n",
      "\n",
      "[!!]Indexing page: 6\n",
      "\n",
      "[%] Indexed 5 Images on Page 6.\n",
      "\n",
      "===============================================\n",
      "\n",
      "[%] Downloading Image #10 from https://www.sydney.edu.au/content/dam/corporate/images/news-and-opinion/news/2020/august/red-fish.jpg\n",
      "[%] File Downloaded !\n",
      "\n",
      "[%] Downloading Image #11 from https://reefbuilders.com/wp-content/blogs.dir/1/files/2019/06/venusta-angelfish-bali-aquarich.jpg\n",
      "[%] File Downloaded !\n",
      "\n",
      "[%] Downloading Image #12 from https://reefbuilders.com/wp-content/blogs.dir/1/files/2014/11/venusta-tetsu.jpg\n",
      "[%] File Downloaded !\n",
      "\n",
      "[%] Downloading Image #13 from http://fishkeepingadvice.com/wp-content/uploads/Reef-aquarium.jpg\n",
      "[%] File Downloaded !\n",
      "\n",
      "[%] Downloading Image #14 from https://t1.daumcdn.net/cfile/tistory/99FC243359F82C0107\n",
      "[%] File Downloaded !\n",
      "\n",
      "\n",
      "\n",
      "[!!]Indexing page: 7\n",
      "\n",
      "[%] Indexed 4 Images on Page 7.\n",
      "\n",
      "===============================================\n",
      "\n",
      "\n",
      "\n",
      "[!!]Indexing page: 8\n",
      "\n",
      "[%] Indexed 3 Images on Page 8.\n",
      "\n",
      "===============================================\n",
      "\n",
      "\n",
      "\n",
      "[!!]Indexing page: 9\n",
      "\n",
      "[%] Indexed 2 Images on Page 9.\n",
      "\n",
      "===============================================\n",
      "\n",
      "\n",
      "\n",
      "[!!]Indexing page: 10\n",
      "\n",
      "[%] Indexed 1 Images on Page 10.\n",
      "\n",
      "===============================================\n",
      "\n",
      "\n",
      "\n",
      "[!!]Indexing page: 11\n",
      "\n",
      "[%] Indexed 9 Images on Page 11.\n",
      "\n",
      "===============================================\n",
      "\n",
      "[%] Downloading Image #15 from http://aquanerd.com/wp-content/uploads/2014/01/Peppermint-Angelfish-Tonys-Vault.jpg\n",
      "[%] File Downloaded !\n",
      "\n",
      "\n",
      "\n",
      "[%] Done. Downloaded 15 images.\n"
     ]
    }
   ],
   "source": [
    "from bing_image_downloader import downloader\n",
    "downloader.download(\"peppermint angelfish\",limit=15,output_dir='images',adult_filter_off=True)"
   ]
  },
  {
   "cell_type": "code",
   "execution_count": 5,
   "id": "b4e80b8a",
   "metadata": {},
   "outputs": [
    {
     "name": "stdout",
     "output_type": "stream",
     "text": [
      "Collecting ipython-autotime\n",
      "  Downloading ipython_autotime-0.3.1-py2.py3-none-any.whl (6.8 kB)\n",
      "Requirement already satisfied: ipython in c:\\users\\lenovo\\appdata\\roaming\\python\\python39\\site-packages (from ipython-autotime) (8.1.1)\n",
      "Requirement already satisfied: jedi>=0.16 in c:\\users\\lenovo\\appdata\\roaming\\python\\python39\\site-packages (from ipython->ipython-autotime) (0.18.1)\n",
      "Requirement already satisfied: matplotlib-inline in c:\\users\\lenovo\\appdata\\roaming\\python\\python39\\site-packages (from ipython->ipython-autotime) (0.1.3)\n",
      "Requirement already satisfied: pickleshare in c:\\users\\lenovo\\appdata\\roaming\\python\\python39\\site-packages (from ipython->ipython-autotime) (0.7.5)\n",
      "Requirement already satisfied: colorama in c:\\users\\lenovo\\appdata\\roaming\\python\\python39\\site-packages (from ipython->ipython-autotime) (0.4.4)\n",
      "Requirement already satisfied: pygments>=2.4.0 in c:\\users\\lenovo\\appdata\\roaming\\python\\python39\\site-packages (from ipython->ipython-autotime) (2.11.2)\n",
      "Requirement already satisfied: setuptools>=18.5 in c:\\users\\lenovo\\anaconda3\\lib\\site-packages (from ipython->ipython-autotime) (58.0.4)\n",
      "Requirement already satisfied: stack-data in c:\\users\\lenovo\\appdata\\roaming\\python\\python39\\site-packages (from ipython->ipython-autotime) (0.2.0)\n",
      "Requirement already satisfied: backcall in c:\\users\\lenovo\\appdata\\roaming\\python\\python39\\site-packages (from ipython->ipython-autotime) (0.2.0)\n",
      "Requirement already satisfied: prompt-toolkit!=3.0.0,!=3.0.1,<3.1.0,>=2.0.0 in c:\\users\\lenovo\\appdata\\roaming\\python\\python39\\site-packages (from ipython->ipython-autotime) (3.0.28)\n",
      "Requirement already satisfied: traitlets>=5 in c:\\users\\lenovo\\appdata\\roaming\\python\\python39\\site-packages (from ipython->ipython-autotime) (5.1.1)\n",
      "Requirement already satisfied: decorator in c:\\users\\lenovo\\appdata\\roaming\\python\\python39\\site-packages (from ipython->ipython-autotime) (5.1.1)\n",
      "Requirement already satisfied: parso<0.9.0,>=0.8.0 in c:\\users\\lenovo\\appdata\\roaming\\python\\python39\\site-packages (from jedi>=0.16->ipython->ipython-autotime) (0.8.3)\n",
      "Requirement already satisfied: wcwidth in c:\\users\\lenovo\\appdata\\roaming\\python\\python39\\site-packages (from prompt-toolkit!=3.0.0,!=3.0.1,<3.1.0,>=2.0.0->ipython->ipython-autotime) (0.2.5)\n",
      "Requirement already satisfied: asttokens in c:\\users\\lenovo\\appdata\\roaming\\python\\python39\\site-packages (from stack-data->ipython->ipython-autotime) (2.0.5)\n",
      "Requirement already satisfied: executing in c:\\users\\lenovo\\appdata\\roaming\\python\\python39\\site-packages (from stack-data->ipython->ipython-autotime) (0.8.3)\n",
      "Requirement already satisfied: pure-eval in c:\\users\\lenovo\\appdata\\roaming\\python\\python39\\site-packages (from stack-data->ipython->ipython-autotime) (0.2.2)\n",
      "Requirement already satisfied: six in c:\\users\\lenovo\\appdata\\roaming\\python\\python39\\site-packages (from asttokens->stack-data->ipython->ipython-autotime) (1.16.0)\n",
      "Installing collected packages: ipython-autotime\n",
      "Successfully installed ipython-autotime-0.3.1\n",
      "Note: you may need to restart the kernel to use updated packages.\n"
     ]
    }
   ],
   "source": [
    "pip install ipython-autotime"
   ]
  },
  {
   "cell_type": "code",
   "execution_count": 6,
   "id": "b17a19c4",
   "metadata": {},
   "outputs": [
    {
     "name": "stdout",
     "output_type": "stream",
     "text": [
      "time: 0 ns (started: 2022-03-28 09:55:31 +05:30)\n"
     ]
    }
   ],
   "source": [
    "%load_ext autotime"
   ]
  },
  {
   "cell_type": "code",
   "execution_count": 2,
   "id": "fe820ec2",
   "metadata": {},
   "outputs": [],
   "source": [
    "import os\n",
    "import matplotlib.pyplot as plt\n",
    "import numpy as np\n",
    "from skimage.io import imread\n",
    "from skimage.transform import resize"
   ]
  },
  {
   "cell_type": "code",
   "execution_count": 3,
   "id": "afa7e776",
   "metadata": {},
   "outputs": [],
   "source": [
    "# DATA PREPROCESSING\n",
    "target = []              #it tells class of image\n",
    "images = []              #data (2D)\n",
    "flat_data = []           #pass to create ml model (1D)\n",
    "\n",
    "DATADIR = 'C:\\\\Users\\\\lenovo\\\\Desktop\\\\fishes\\\\images'\n",
    "\n",
    "CATEGORIES = ['hammerhead shark','Most Beautiful Goldfish','peppermint angelfish']\n",
    "\n",
    "for category in CATEGORIES:\n",
    "    #print(category)\n",
    "    class_num = CATEGORIES.index(category)\n",
    "    #print(class_numabs)\n",
    "    path = os.path.join(DATADIR,category)\n",
    "    for img in os.listdir(path):\n",
    "        img_array = imread(os.path.join(path,img))\n",
    "        #print(img_array.shape)\n",
    "        #plt.imshow(img_array)\n",
    "        #break\n",
    "        img_resized = resize(img_array,(150,150,3))\n",
    "        flat_data.append(img_resized.flatten())\n",
    "        images.append(img_resized)\n",
    "        target.append(class_num)\n",
    "        \n",
    "flat_data = np.array(flat_data)\n",
    "target = np.array(target)\n",
    "images = np.array(images)\n"
   ]
  },
  {
   "cell_type": "code",
   "execution_count": 24,
   "id": "836c0a12",
   "metadata": {},
   "outputs": [
    {
     "data": {
      "text/plain": [
       "67500"
      ]
     },
     "execution_count": 24,
     "metadata": {},
     "output_type": "execute_result"
    },
    {
     "name": "stdout",
     "output_type": "stream",
     "text": [
      "time: 15 ms (started: 2022-03-28 10:37:40 +05:30)\n"
     ]
    }
   ],
   "source": [
    "len(flat_data[0])"
   ]
  },
  {
   "cell_type": "code",
   "execution_count": 25,
   "id": "47d729a6",
   "metadata": {},
   "outputs": [
    {
     "data": {
      "text/plain": [
       "67500"
      ]
     },
     "execution_count": 25,
     "metadata": {},
     "output_type": "execute_result"
    },
    {
     "name": "stdout",
     "output_type": "stream",
     "text": [
      "time: 0 ns (started: 2022-03-28 10:38:02 +05:30)\n"
     ]
    }
   ],
   "source": [
    "150*150*3"
   ]
  },
  {
   "cell_type": "code",
   "execution_count": 26,
   "id": "efbfd6d2",
   "metadata": {},
   "outputs": [
    {
     "data": {
      "text/plain": [
       "array([0, 0, 0, 0, 0, 0, 0, 0, 0, 0, 0, 0, 0, 0, 0, 1, 1, 1, 1, 1, 1, 1,\n",
       "       1, 1, 1, 1, 1, 1, 1, 1, 2, 2, 2, 2, 2, 2, 2, 2, 2, 2, 2, 2, 2, 2,\n",
       "       2])"
      ]
     },
     "execution_count": 26,
     "metadata": {},
     "output_type": "execute_result"
    },
    {
     "name": "stdout",
     "output_type": "stream",
     "text": [
      "time: 16 ms (started: 2022-03-28 10:38:22 +05:30)\n"
     ]
    }
   ],
   "source": [
    "target"
   ]
  },
  {
   "cell_type": "code",
   "execution_count": 28,
   "id": "a14c1f2d",
   "metadata": {},
   "outputs": [
    {
     "data": {
      "text/plain": [
       "<BarContainer object of 3 artists>"
      ]
     },
     "execution_count": 28,
     "metadata": {},
     "output_type": "execute_result"
    },
    {
     "data": {
      "image/png": "[encoded data removed]",
      "text/plain": [
       "<Figure size 432x288 with 1 Axes>"
      ]
     },
     "metadata": {
      "needs_background": "light"
     },
     "output_type": "display_data"
    },
    {
     "name": "stdout",
     "output_type": "stream",
     "text": [
      "time: 344 ms (started: 2022-03-28 10:39:51 +05:30)\n"
     ]
    }
   ],
   "source": [
    "unique,count = np.unique(target,return_counts=True)\n",
    "plt.bar(CATEGORIES,count)"
   ]
  },
  {
   "cell_type": "code",
   "execution_count": 4,
   "id": "8b7c71db",
   "metadata": {},
   "outputs": [],
   "source": [
    "#split data in two parts training and testing\n",
    "from sklearn.model_selection import train_test_split\n",
    "x_train,x_test,y_train,y_test = train_test_split(flat_data,target,test_size=0.3,random_state=109)"
   ]
  },
  {
   "cell_type": "code",
   "execution_count": 5,
   "id": "6fce71a5",
   "metadata": {},
   "outputs": [
    {
     "data": {
      "text/plain": [
       "GridSearchCV(estimator=SVC(probability=True),\n",
       "             param_grid=[{'C': [1, 10, 100, 1000], 'kernel': ['linear']},\n",
       "                         {'C': [1, 10, 100, 1000], 'gamma': [0.001, 0.0001],\n",
       "                          'kernel': ['rbf']}])"
      ]
     },
     "execution_count": 5,
     "metadata": {},
     "output_type": "execute_result"
    }
   ],
   "source": [
    "#best model and parameter\n",
    "from sklearn.model_selection import GridSearchCV\n",
    "from sklearn import svm\n",
    "param_grid = [\n",
    "    {'C':[1,10,100,1000],'kernel':['linear']},\n",
    "    {'C':[1,10,100,1000],'gamma':[0.001,0.0001],'kernel':['rbf']}\n",
    "    \n",
    "]\n",
    "\n",
    "svc = svm.SVC(probability=True)\n",
    "clf = GridSearchCV(svc,param_grid)\n",
    "clf.fit(x_train,y_train)"
   ]
  },
  {
   "cell_type": "code",
   "execution_count": 6,
   "id": "4a1e2fc0",
   "metadata": {},
   "outputs": [
    {
     "data": {
      "text/plain": [
       "array([2, 2, 2, 0, 1, 1, 2, 0, 0, 2, 0, 1, 2, 2])"
      ]
     },
     "execution_count": 6,
     "metadata": {},
     "output_type": "execute_result"
    }
   ],
   "source": [
    "y_pred = clf.predict(x_test)\n",
    "y_pred"
   ]
  },
  {
   "cell_type": "code",
   "execution_count": 7,
   "id": "36a290b9",
   "metadata": {},
   "outputs": [
    {
     "data": {
      "text/plain": [
       "array([2, 2, 2, 1, 1, 1, 2, 0, 0, 2, 1, 2, 2, 1])"
      ]
     },
     "execution_count": 7,
     "metadata": {},
     "output_type": "execute_result"
    }
   ],
   "source": [
    "y_test"
   ]
  },
  {
   "cell_type": "code",
   "execution_count": 8,
   "id": "d2b5bae9",
   "metadata": {},
   "outputs": [],
   "source": [
    "#evaluation of model\n",
    "from sklearn.metrics import accuracy_score,confusion_matrix"
   ]
  },
  {
   "cell_type": "code",
   "execution_count": 9,
   "id": "85129581",
   "metadata": {},
   "outputs": [
    {
     "data": {
      "text/plain": [
       "0.7142857142857143"
      ]
     },
     "execution_count": 9,
     "metadata": {},
     "output_type": "execute_result"
    }
   ],
   "source": [
    "accuracy_score(y_pred,y_test)"
   ]
  },
  {
   "cell_type": "code",
   "execution_count": 10,
   "id": "c34d3fef",
   "metadata": {},
   "outputs": [
    {
     "data": {
      "text/plain": [
       "array([[2, 2, 0],\n",
       "       [0, 2, 1],\n",
       "       [0, 1, 6]], dtype=int64)"
      ]
     },
     "execution_count": 10,
     "metadata": {},
     "output_type": "execute_result"
    }
   ],
   "source": [
    "confusion_matrix(y_pred,y_test)"
   ]
  },
  {
   "cell_type": "code",
   "execution_count": 11,
   "id": "4d1dff0d",
   "metadata": {},
   "outputs": [
    {
     "name": "stdout",
     "output_type": "stream",
     "text": [
      "Collecting pickle5\n",
      "  Using cached pickle5-0.0.11.tar.gz (132 kB)\n",
      "Building wheels for collected packages: pickle5\n",
      "  Building wheel for pickle5 (setup.py): started\n",
      "  Building wheel for pickle5 (setup.py): finished with status 'error'\n",
      "  Running setup.py clean for pickle5\n",
      "Failed to build pickle5\n",
      "Installing collected packages: pickle5\n",
      "    Running setup.py install for pickle5: started\n",
      "    Running setup.py install for pickle5: finished with status 'error'\n",
      "Note: you may need to restart the kernel to use updated packages.\n"
     ]
    },
    {
     "name": "stderr",
     "output_type": "stream",
     "text": [
      "  ERROR: Command errored out with exit status 1:\n",
      "   command: 'C:\\Users\\lenovo\\anaconda3\\python.exe' -u -c 'import io, os, sys, setuptools, tokenize; sys.argv[0] = '\"'\"'C:\\\\Users\\\\lenovo\\\\AppData\\\\Local\\\\Temp\\\\pip-install-tgzhbp3d\\\\pickle5_afc518dda1c04c6ebead2a3c8ce92b63\\\\setup.py'\"'\"'; __file__='\"'\"'C:\\\\Users\\\\lenovo\\\\AppData\\\\Local\\\\Temp\\\\pip-install-tgzhbp3d\\\\pickle5_afc518dda1c04c6ebead2a3c8ce92b63\\\\setup.py'\"'\"';f = getattr(tokenize, '\"'\"'open'\"'\"', open)(__file__) if os.path.exists(__file__) else io.StringIO('\"'\"'from setuptools import setup; setup()'\"'\"');code = f.read().replace('\"'\"'\\r\\n'\"'\"', '\"'\"'\\n'\"'\"');f.close();exec(compile(code, __file__, '\"'\"'exec'\"'\"'))' bdist_wheel -d 'C:\\Users\\lenovo\\AppData\\Local\\Temp\\pip-wheel-s_icvpi7'\n",
      "       cwd: C:\\Users\\lenovo\\AppData\\Local\\Temp\\pip-install-tgzhbp3d\\pickle5_afc518dda1c04c6ebead2a3c8ce92b63\\\n",
      "  Complete output (36 lines):\n",
      "  running bdist_wheel\n",
      "  running build\n",
      "  running build_py\n",
      "  creating build\n",
      "  creating build\\lib.win-amd64-3.9\n",
      "  creating build\\lib.win-amd64-3.9\\pickle5\n",
      "  copying pickle5\\pickle.py -> build\\lib.win-amd64-3.9\\pickle5\n",
      "  copying pickle5\\pickletools.py -> build\\lib.win-amd64-3.9\\pickle5\n",
      "  copying pickle5\\__init__.py -> build\\lib.win-amd64-3.9\\pickle5\n",
      "  creating build\\lib.win-amd64-3.9\\pickle5\\test\n",
      "  copying pickle5\\test\\pickletester.py -> build\\lib.win-amd64-3.9\\pickle5\\test\n",
      "  copying pickle5\\test\\test_pickle.py -> build\\lib.win-amd64-3.9\\pickle5\\test\n",
      "  copying pickle5\\test\\test_picklebuffer.py -> build\\lib.win-amd64-3.9\\pickle5\\test\n",
      "  copying pickle5\\test\\__init__.py -> build\\lib.win-amd64-3.9\\pickle5\\test\n",
      "  running build_ext\n",
      "  building 'pickle5._pickle' extension\n",
      "  creating build\\temp.win-amd64-3.9\n",
      "  creating build\\temp.win-amd64-3.9\\Release\n",
      "  creating build\\temp.win-amd64-3.9\\Release\\pickle5\n",
      "  C:\\Program Files\\Microsoft Visual Studio\\2022\\Community\\VC\\Tools\\MSVC\\14.30.30705\\bin\\HostX86\\x64\\cl.exe /c /nologo /Ox /W3 /GL /DNDEBUG /MD -IC:\\Users\\lenovo\\anaconda3\\include -IC:\\Users\\lenovo\\anaconda3\\include -IC:\\Program Files\\Microsoft Visual Studio\\2022\\Community\\VC\\Tools\\MSVC\\14.30.30705\\include -IC:\\Program Files (x86)\\Windows Kits\\NETFXSDK\\4.8\\include\\um -IC:\\Program Files (x86)\\Windows Kits\\10\\include\\10.0.19041.0\\ucrt -IC:\\Program Files (x86)\\Windows Kits\\10\\\\include\\10.0.19041.0\\\\shared -IC:\\Program Files (x86)\\Windows Kits\\10\\\\include\\10.0.19041.0\\\\um -IC:\\Program Files (x86)\\Windows Kits\\10\\\\include\\10.0.19041.0\\\\winrt -IC:\\Program Files (x86)\\Windows Kits\\10\\\\include\\10.0.19041.0\\\\cppwinrt /Tcpickle5/_pickle.c /Fobuild\\temp.win-amd64-3.9\\Release\\pickle5/_pickle.obj\n",
      "  _pickle.c\n",
      "  C:\\Program Files\\Microsoft Visual Studio\\2022\\Community\\VC\\Tools\\MSVC\\14.30.30705\\bin\\HostX86\\x64\\cl.exe /c /nologo /Ox /W3 /GL /DNDEBUG /MD -IC:\\Users\\lenovo\\anaconda3\\include -IC:\\Users\\lenovo\\anaconda3\\include -IC:\\Program Files\\Microsoft Visual Studio\\2022\\Community\\VC\\Tools\\MSVC\\14.30.30705\\include -IC:\\Program Files (x86)\\Windows Kits\\NETFXSDK\\4.8\\include\\um -IC:\\Program Files (x86)\\Windows Kits\\10\\include\\10.0.19041.0\\ucrt -IC:\\Program Files (x86)\\Windows Kits\\10\\\\include\\10.0.19041.0\\\\shared -IC:\\Program Files (x86)\\Windows Kits\\10\\\\include\\10.0.19041.0\\\\um -IC:\\Program Files (x86)\\Windows Kits\\10\\\\include\\10.0.19041.0\\\\winrt -IC:\\Program Files (x86)\\Windows Kits\\10\\\\include\\10.0.19041.0\\\\cppwinrt /Tcpickle5/picklebufobject.c /Fobuild\\temp.win-amd64-3.9\\Release\\pickle5/picklebufobject.obj\n",
      "  picklebufobject.c\n",
      "  pickle5/picklebufobject.c(19): warning C4273: 'PyPickleBuffer_FromObject': inconsistent dll linkage\n",
      "  C:\\Users\\lenovo\\anaconda3\\include\\picklebufobject.h(18): note: see previous definition of 'PyPickleBuffer_FromObject'\n",
      "  pickle5/picklebufobject.c(38): warning C4273: 'PyPickleBuffer_GetBuffer': inconsistent dll linkage\n",
      "  C:\\Users\\lenovo\\anaconda3\\include\\picklebufobject.h(22): note: see previous definition of 'PyPickleBuffer_GetBuffer'\n",
      "  pickle5/picklebufobject.c(57): warning C4273: 'PyPickleBuffer_Release': inconsistent dll linkage\n",
      "  C:\\Users\\lenovo\\anaconda3\\include\\picklebufobject.h(24): note: see previous definition of 'PyPickleBuffer_Release'\n",
      "  pickle5/picklebufobject.c(208): warning C4273: 'PyPickleBuffer_Type': inconsistent dll linkage\n",
      "  C:\\Users\\lenovo\\anaconda3\\include\\picklebufobject.h(13): note: see previous definition of 'PyPickleBuffer_Type'\n",
      "  C:\\Program Files\\Microsoft Visual Studio\\2022\\Community\\VC\\Tools\\MSVC\\14.30.30705\\bin\\HostX86\\x64\\link.exe /nologo /INCREMENTAL:NO /LTCG /DLL /MANIFEST:EMBED,ID=2 /MANIFESTUAC:NO /LIBPATH:C:\\Users\\lenovo\\anaconda3\\libs /LIBPATH:C:\\Users\\lenovo\\anaconda3\\PCbuild\\amd64 /LIBPATH:C:\\Program Files\\Microsoft Visual Studio\\2022\\Community\\VC\\Tools\\MSVC\\14.30.30705\\lib\\x64 /LIBPATH:C:\\Program Files (x86)\\Windows Kits\\NETFXSDK\\4.8\\lib\\um\\x64 /LIBPATH:C:\\Program Files (x86)\\Windows Kits\\10\\lib\\10.0.19041.0\\ucrt\\x64 /LIBPATH:C:\\Program Files (x86)\\Windows Kits\\10\\\\lib\\10.0.19041.0\\\\um\\x64 /EXPORT:PyInit__pickle build\\temp.win-amd64-3.9\\Release\\pickle5/_pickle.obj build\\temp.win-amd64-3.9\\Release\\pickle5/picklebufobject.obj /OUT:build\\lib.win-amd64-3.9\\pickle5\\_pickle.cp39-win_amd64.pyd /IMPLIB:build\\temp.win-amd64-3.9\\Release\\pickle5\\_pickle.cp39-win_amd64.lib\n",
      "  python39.lib(python39.dll) : error LNK2005: PyPickleBuffer_GetBuffer already defined in picklebufobject.obj\n",
      "     Creating library build\\temp.win-amd64-3.9\\Release\\pickle5\\_pickle.cp39-win_amd64.lib and object build\\temp.win-amd64-3.9\\Release\\pickle5\\_pickle.cp39-win_amd64.exp\n",
      "  build\\lib.win-amd64-3.9\\pickle5\\_pickle.cp39-win_amd64.pyd : fatal error LNK1169: one or more multiply defined symbols found\n",
      "  error: command 'C:\\\\Program Files\\\\Microsoft Visual Studio\\\\2022\\\\Community\\\\VC\\\\Tools\\\\MSVC\\\\14.30.30705\\\\bin\\\\HostX86\\\\x64\\\\link.exe' failed with exit code 1169\n",
      "  ----------------------------------------\n",
      "  ERROR: Failed building wheel for pickle5\n",
      "    ERROR: Command errored out with exit status 1:\n",
      "     command: 'C:\\Users\\lenovo\\anaconda3\\python.exe' -u -c 'import io, os, sys, setuptools, tokenize; sys.argv[0] = '\"'\"'C:\\\\Users\\\\lenovo\\\\AppData\\\\Local\\\\Temp\\\\pip-install-tgzhbp3d\\\\pickle5_afc518dda1c04c6ebead2a3c8ce92b63\\\\setup.py'\"'\"'; __file__='\"'\"'C:\\\\Users\\\\lenovo\\\\AppData\\\\Local\\\\Temp\\\\pip-install-tgzhbp3d\\\\pickle5_afc518dda1c04c6ebead2a3c8ce92b63\\\\setup.py'\"'\"';f = getattr(tokenize, '\"'\"'open'\"'\"', open)(__file__) if os.path.exists(__file__) else io.StringIO('\"'\"'from setuptools import setup; setup()'\"'\"');code = f.read().replace('\"'\"'\\r\\n'\"'\"', '\"'\"'\\n'\"'\"');f.close();exec(compile(code, __file__, '\"'\"'exec'\"'\"'))' install --record 'C:\\Users\\lenovo\\AppData\\Local\\Temp\\pip-record-buliyuao\\install-record.txt' --single-version-externally-managed --compile --install-headers 'C:\\Users\\lenovo\\anaconda3\\Include\\pickle5'\n",
      "         cwd: C:\\Users\\lenovo\\AppData\\Local\\Temp\\pip-install-tgzhbp3d\\pickle5_afc518dda1c04c6ebead2a3c8ce92b63\\\n",
      "    Complete output (36 lines):\n",
      "    running install\n",
      "    running build\n",
      "    running build_py\n",
      "    creating build\n",
      "    creating build\\lib.win-amd64-3.9\n",
      "    creating build\\lib.win-amd64-3.9\\pickle5\n",
      "    copying pickle5\\pickle.py -> build\\lib.win-amd64-3.9\\pickle5\n",
      "    copying pickle5\\pickletools.py -> build\\lib.win-amd64-3.9\\pickle5\n",
      "    copying pickle5\\__init__.py -> build\\lib.win-amd64-3.9\\pickle5\n",
      "    creating build\\lib.win-amd64-3.9\\pickle5\\test\n",
      "    copying pickle5\\test\\pickletester.py -> build\\lib.win-amd64-3.9\\pickle5\\test\n",
      "    copying pickle5\\test\\test_pickle.py -> build\\lib.win-amd64-3.9\\pickle5\\test\n",
      "    copying pickle5\\test\\test_picklebuffer.py -> build\\lib.win-amd64-3.9\\pickle5\\test\n",
      "    copying pickle5\\test\\__init__.py -> build\\lib.win-amd64-3.9\\pickle5\\test\n",
      "    running build_ext\n",
      "    building 'pickle5._pickle' extension\n",
      "    creating build\\temp.win-amd64-3.9\n",
      "    creating build\\temp.win-amd64-3.9\\Release\n",
      "    creating build\\temp.win-amd64-3.9\\Release\\pickle5\n",
      "    C:\\Program Files\\Microsoft Visual Studio\\2022\\Community\\VC\\Tools\\MSVC\\14.30.30705\\bin\\HostX86\\x64\\cl.exe /c /nologo /Ox /W3 /GL /DNDEBUG /MD -IC:\\Users\\lenovo\\anaconda3\\include -IC:\\Users\\lenovo\\anaconda3\\include -IC:\\Program Files\\Microsoft Visual Studio\\2022\\Community\\VC\\Tools\\MSVC\\14.30.30705\\include -IC:\\Program Files (x86)\\Windows Kits\\NETFXSDK\\4.8\\include\\um -IC:\\Program Files (x86)\\Windows Kits\\10\\include\\10.0.19041.0\\ucrt -IC:\\Program Files (x86)\\Windows Kits\\10\\\\include\\10.0.19041.0\\\\shared -IC:\\Program Files (x86)\\Windows Kits\\10\\\\include\\10.0.19041.0\\\\um -IC:\\Program Files (x86)\\Windows Kits\\10\\\\include\\10.0.19041.0\\\\winrt -IC:\\Program Files (x86)\\Windows Kits\\10\\\\include\\10.0.19041.0\\\\cppwinrt /Tcpickle5/_pickle.c /Fobuild\\temp.win-amd64-3.9\\Release\\pickle5/_pickle.obj\n",
      "    _pickle.c\n",
      "    C:\\Program Files\\Microsoft Visual Studio\\2022\\Community\\VC\\Tools\\MSVC\\14.30.30705\\bin\\HostX86\\x64\\cl.exe /c /nologo /Ox /W3 /GL /DNDEBUG /MD -IC:\\Users\\lenovo\\anaconda3\\include -IC:\\Users\\lenovo\\anaconda3\\include -IC:\\Program Files\\Microsoft Visual Studio\\2022\\Community\\VC\\Tools\\MSVC\\14.30.30705\\include -IC:\\Program Files (x86)\\Windows Kits\\NETFXSDK\\4.8\\include\\um -IC:\\Program Files (x86)\\Windows Kits\\10\\include\\10.0.19041.0\\ucrt -IC:\\Program Files (x86)\\Windows Kits\\10\\\\include\\10.0.19041.0\\\\shared -IC:\\Program Files (x86)\\Windows Kits\\10\\\\include\\10.0.19041.0\\\\um -IC:\\Program Files (x86)\\Windows Kits\\10\\\\include\\10.0.19041.0\\\\winrt -IC:\\Program Files (x86)\\Windows Kits\\10\\\\include\\10.0.19041.0\\\\cppwinrt /Tcpickle5/picklebufobject.c /Fobuild\\temp.win-amd64-3.9\\Release\\pickle5/picklebufobject.obj\n",
      "    picklebufobject.c\n",
      "    pickle5/picklebufobject.c(19): warning C4273: 'PyPickleBuffer_FromObject': inconsistent dll linkage\n",
      "    C:\\Users\\lenovo\\anaconda3\\include\\picklebufobject.h(18): note: see previous definition of 'PyPickleBuffer_FromObject'\n",
      "    pickle5/picklebufobject.c(38): warning C4273: 'PyPickleBuffer_GetBuffer': inconsistent dll linkage\n",
      "    C:\\Users\\lenovo\\anaconda3\\include\\picklebufobject.h(22): note: see previous definition of 'PyPickleBuffer_GetBuffer'\n",
      "    pickle5/picklebufobject.c(57): warning C4273: 'PyPickleBuffer_Release': inconsistent dll linkage\n",
      "    C:\\Users\\lenovo\\anaconda3\\include\\picklebufobject.h(24): note: see previous definition of 'PyPickleBuffer_Release'\n",
      "    pickle5/picklebufobject.c(208): warning C4273: 'PyPickleBuffer_Type': inconsistent dll linkage\n",
      "    C:\\Users\\lenovo\\anaconda3\\include\\picklebufobject.h(13): note: see previous definition of 'PyPickleBuffer_Type'\n",
      "    C:\\Program Files\\Microsoft Visual Studio\\2022\\Community\\VC\\Tools\\MSVC\\14.30.30705\\bin\\HostX86\\x64\\link.exe /nologo /INCREMENTAL:NO /LTCG /DLL /MANIFEST:EMBED,ID=2 /MANIFESTUAC:NO /LIBPATH:C:\\Users\\lenovo\\anaconda3\\libs /LIBPATH:C:\\Users\\lenovo\\anaconda3\\PCbuild\\amd64 /LIBPATH:C:\\Program Files\\Microsoft Visual Studio\\2022\\Community\\VC\\Tools\\MSVC\\14.30.30705\\lib\\x64 /LIBPATH:C:\\Program Files (x86)\\Windows Kits\\NETFXSDK\\4.8\\lib\\um\\x64 /LIBPATH:C:\\Program Files (x86)\\Windows Kits\\10\\lib\\10.0.19041.0\\ucrt\\x64 /LIBPATH:C:\\Program Files (x86)\\Windows Kits\\10\\\\lib\\10.0.19041.0\\\\um\\x64 /EXPORT:PyInit__pickle build\\temp.win-amd64-3.9\\Release\\pickle5/_pickle.obj build\\temp.win-amd64-3.9\\Release\\pickle5/picklebufobject.obj /OUT:build\\lib.win-amd64-3.9\\pickle5\\_pickle.cp39-win_amd64.pyd /IMPLIB:build\\temp.win-amd64-3.9\\Release\\pickle5\\_pickle.cp39-win_amd64.lib\n",
      "    python39.lib(python39.dll) : error LNK2005: PyPickleBuffer_GetBuffer already defined in picklebufobject.obj\n",
      "       Creating library build\\temp.win-amd64-3.9\\Release\\pickle5\\_pickle.cp39-win_amd64.lib and object build\\temp.win-amd64-3.9\\Release\\pickle5\\_pickle.cp39-win_amd64.exp\n",
      "    build\\lib.win-amd64-3.9\\pickle5\\_pickle.cp39-win_amd64.pyd : fatal error LNK1169: one or more multiply defined symbols found\n",
      "    error: command 'C:\\\\Program Files\\\\Microsoft Visual Studio\\\\2022\\\\Community\\\\VC\\\\Tools\\\\MSVC\\\\14.30.30705\\\\bin\\\\HostX86\\\\x64\\\\link.exe' failed with exit code 1169\n",
      "    ----------------------------------------\n",
      "ERROR: Command errored out with exit status 1: 'C:\\Users\\lenovo\\anaconda3\\python.exe' -u -c 'import io, os, sys, setuptools, tokenize; sys.argv[0] = '\"'\"'C:\\\\Users\\\\lenovo\\\\AppData\\\\Local\\\\Temp\\\\pip-install-tgzhbp3d\\\\pickle5_afc518dda1c04c6ebead2a3c8ce92b63\\\\setup.py'\"'\"'; __file__='\"'\"'C:\\\\Users\\\\lenovo\\\\AppData\\\\Local\\\\Temp\\\\pip-install-tgzhbp3d\\\\pickle5_afc518dda1c04c6ebead2a3c8ce92b63\\\\setup.py'\"'\"';f = getattr(tokenize, '\"'\"'open'\"'\"', open)(__file__) if os.path.exists(__file__) else io.StringIO('\"'\"'from setuptools import setup; setup()'\"'\"');code = f.read().replace('\"'\"'\\r\\n'\"'\"', '\"'\"'\\n'\"'\"');f.close();exec(compile(code, __file__, '\"'\"'exec'\"'\"'))' install --record 'C:\\Users\\lenovo\\AppData\\Local\\Temp\\pip-record-buliyuao\\install-record.txt' --single-version-externally-managed --compile --install-headers 'C:\\Users\\lenovo\\anaconda3\\Include\\pickle5' Check the logs for full command output.\n"
     ]
    }
   ],
   "source": [
    "#saving model in pickle file\n",
    "pip install pickle5"
   ]
  },
  {
   "cell_type": "code",
   "execution_count": 12,
   "id": "ed2a735a",
   "metadata": {},
   "outputs": [],
   "source": [
    "import pickle\n",
    "pickle.dump(clf,open('img_model.p','wb'))"
   ]
  },
  {
   "cell_type": "code",
   "execution_count": 13,
   "id": "0c6384c3",
   "metadata": {},
   "outputs": [],
   "source": [
    "model = pickle.load(open('img_model.p','rb'))"
   ]
  },
  {
   "cell_type": "code",
   "execution_count": 14,
   "id": "08165ffc",
   "metadata": {},
   "outputs": [
    {
     "name": "stdout",
     "output_type": "stream",
     "text": [
      "Enter your URLhttps://i.natgeofe.com/k/ab05056e-6b6e-41d7-ab0a-c15c84110f02/hammerhead-shark-swimming_4x3.jpg\n",
      "(2304, 3072, 3)\n",
      " PREDICTED OUTPUT: hammerhead shark\n"
     ]
    },
    {
     "data": {
      "image/png": "[encoded data removed]",
      "text/plain": [
       "<Figure size 432x288 with 1 Axes>"
      ]
     },
     "metadata": {
      "needs_background": "light"
     },
     "output_type": "display_data"
    }
   ],
   "source": [
    "#checking for new image\n",
    "flat_data = []\n",
    "url = input('Enter your URL')\n",
    "img = imread(url)\n",
    "img_resized = resize(img,(150,150,3))\n",
    "flat_data.append(img_resized.flatten())\n",
    "flat_data = np.array(flat_data)\n",
    "print(img.shape)\n",
    "plt.imshow(img_resized)\n",
    "y_out = model.predict(flat_data)\n",
    "y_out = CATEGORIES[y_out[0]]\n",
    "print(f' PREDICTED OUTPUT: {y_out}')"
   ]
  },
  {
   "cell_type": "code",
   "execution_count": 15,
   "id": "edfad1ae",
   "metadata": {},
   "outputs": [
    {
     "name": "stdout",
     "output_type": "stream",
     "text": [
      "Collecting streamlitNote: you may need to restart the kernel to use updated packages.\n",
      "  Downloading streamlit-1.8.0-py2.py3-none-any.whl (10.1 MB)\n",
      "Requirement already satisfied: watchdog in c:\\users\\lenovo\\anaconda3\\lib\\site-packages (from streamlit) (2.1.6)\n",
      "Requirement already satisfied: protobuf!=3.11,>=3.6.0 in c:\\users\\lenovo\\anaconda3\\lib\\site-packages (from streamlit) (3.19.4)\n",
      "Collecting pydeck>=0.1.dev5\n",
      "  Downloading pydeck-0.7.1-py2.py3-none-any.whl (4.3 MB)\n",
      "Requirement already satisfied: numpy in c:\\users\\lenovo\\anaconda3\\lib\\site-packages (from streamlit) (1.22.2)\n",
      "Collecting semver\n",
      "  Downloading semver-2.13.0-py2.py3-none-any.whl (12 kB)\n",
      "Requirement already satisfied: tornado>=5.0 in c:\\users\\lenovo\\appdata\\roaming\\python\\python39\\site-packages (from streamlit) (6.1)\n",
      "Requirement already satisfied: python-dateutil in c:\\users\\lenovo\\appdata\\roaming\\python\\python39\\site-packages (from streamlit) (2.8.2)\n",
      "Collecting altair>=3.2.0\n",
      "  Downloading altair-4.2.0-py3-none-any.whl (812 kB)\n",
      "Collecting pympler>=0.9\n",
      "  Downloading Pympler-1.0.1-py3-none-any.whl (164 kB)\n",
      "Requirement already satisfied: click>=7.0 in c:\\users\\lenovo\\anaconda3\\lib\\site-packages (from streamlit) (8.0.4)\n",
      "Requirement already satisfied: attrs in c:\\users\\lenovo\\anaconda3\\lib\\site-packages (from streamlit) (21.4.0)\n",
      "Requirement already satisfied: importlib-metadata>=1.4 in c:\\users\\lenovo\\anaconda3\\lib\\site-packages (from streamlit) (4.8.2)\n",
      "Requirement already satisfied: packaging in c:\\users\\lenovo\\anaconda3\\lib\\site-packages (from streamlit) (21.3)\n",
      "Collecting blinker\n",
      "  Downloading blinker-1.4.tar.gz (111 kB)\n",
      "Collecting pyarrow\n",
      "  Downloading pyarrow-7.0.0-cp39-cp39-win_amd64.whl (16.1 MB)\n",
      "Requirement already satisfied: pandas>=0.21.0 in c:\\users\\lenovo\\anaconda3\\lib\\site-packages (from streamlit) (1.4.1)\n",
      "Collecting validators\n",
      "  Downloading validators-0.18.2-py3-none-any.whl (19 kB)\n",
      "Requirement already satisfied: pillow>=6.2.0 in c:\\users\\lenovo\\anaconda3\\lib\\site-packages (from streamlit) (9.0.1)\n",
      "Collecting gitpython!=3.1.19\n",
      "\n",
      "  Downloading GitPython-3.1.27-py3-none-any.whl (181 kB)\n",
      "Requirement already satisfied: requests in c:\\users\\lenovo\\anaconda3\\lib\\site-packages (from streamlit) (2.27.1)\n",
      "Requirement already satisfied: cachetools>=4.0 in c:\\users\\lenovo\\anaconda3\\lib\\site-packages (from streamlit) (5.0.0)\n",
      "Requirement already satisfied: toml in c:\\users\\lenovo\\anaconda3\\lib\\site-packages (from streamlit) (0.10.2)\n",
      "Collecting tzlocal\n",
      "  Downloading tzlocal-4.1-py3-none-any.whl (19 kB)\n",
      "Requirement already satisfied: jsonschema>=3.0 in c:\\users\\lenovo\\anaconda3\\lib\\site-packages (from altair>=3.2.0->streamlit) (3.2.0)\n",
      "Requirement already satisfied: jinja2 in c:\\users\\lenovo\\anaconda3\\lib\\site-packages (from altair>=3.2.0->streamlit) (2.11.3)\n",
      "Requirement already satisfied: entrypoints in c:\\users\\lenovo\\appdata\\roaming\\python\\python39\\site-packages (from altair>=3.2.0->streamlit) (0.4)\n",
      "Requirement already satisfied: toolz in c:\\users\\lenovo\\anaconda3\\lib\\site-packages (from altair>=3.2.0->streamlit) (0.11.2)\n",
      "Requirement already satisfied: colorama in c:\\users\\lenovo\\appdata\\roaming\\python\\python39\\site-packages (from click>=7.0->streamlit) (0.4.4)\n",
      "Collecting gitdb<5,>=4.0.1\n",
      "  Downloading gitdb-4.0.9-py3-none-any.whl (63 kB)\n",
      "Collecting smmap<6,>=3.0.1\n",
      "  Downloading smmap-5.0.0-py3-none-any.whl (24 kB)\n",
      "Requirement already satisfied: zipp>=0.5 in c:\\users\\lenovo\\anaconda3\\lib\\site-packages (from importlib-metadata>=1.4->streamlit) (3.7.0)\n",
      "Requirement already satisfied: six>=1.11.0 in c:\\users\\lenovo\\appdata\\roaming\\python\\python39\\site-packages (from jsonschema>=3.0->altair>=3.2.0->streamlit) (1.16.0)\n",
      "Requirement already satisfied: pyrsistent>=0.14.0 in c:\\users\\lenovo\\anaconda3\\lib\\site-packages (from jsonschema>=3.0->altair>=3.2.0->streamlit) (0.18.0)\n",
      "Requirement already satisfied: setuptools in c:\\users\\lenovo\\anaconda3\\lib\\site-packages (from jsonschema>=3.0->altair>=3.2.0->streamlit) (58.0.4)\n",
      "Requirement already satisfied: pytz>=2020.1 in c:\\users\\lenovo\\anaconda3\\lib\\site-packages (from pandas>=0.21.0->streamlit) (2021.3)\n",
      "Requirement already satisfied: traitlets>=4.3.2 in c:\\users\\lenovo\\appdata\\roaming\\python\\python39\\site-packages (from pydeck>=0.1.dev5->streamlit) (5.1.1)\n",
      "Requirement already satisfied: ipykernel>=5.1.2 in c:\\users\\lenovo\\appdata\\roaming\\python\\python39\\site-packages (from pydeck>=0.1.dev5->streamlit) (6.9.1)\n",
      "Requirement already satisfied: ipywidgets>=7.0.0 in c:\\users\\lenovo\\anaconda3\\lib\\site-packages (from pydeck>=0.1.dev5->streamlit) (7.6.5)\n",
      "Requirement already satisfied: ipython>=7.23.1 in c:\\users\\lenovo\\appdata\\roaming\\python\\python39\\site-packages (from ipykernel>=5.1.2->pydeck>=0.1.dev5->streamlit) (8.1.1)\n",
      "Requirement already satisfied: matplotlib-inline<0.2.0,>=0.1.0 in c:\\users\\lenovo\\appdata\\roaming\\python\\python39\\site-packages (from ipykernel>=5.1.2->pydeck>=0.1.dev5->streamlit) (0.1.3)\n",
      "Requirement already satisfied: jupyter-client<8.0 in c:\\users\\lenovo\\appdata\\roaming\\python\\python39\\site-packages (from ipykernel>=5.1.2->pydeck>=0.1.dev5->streamlit) (7.1.2)\n",
      "Requirement already satisfied: nest-asyncio in c:\\users\\lenovo\\appdata\\roaming\\python\\python39\\site-packages (from ipykernel>=5.1.2->pydeck>=0.1.dev5->streamlit) (1.5.4)\n",
      "Requirement already satisfied: debugpy<2.0,>=1.0.0 in c:\\users\\lenovo\\appdata\\roaming\\python\\python39\\site-packages (from ipykernel>=5.1.2->pydeck>=0.1.dev5->streamlit) (1.5.1)\n",
      "Requirement already satisfied: stack-data in c:\\users\\lenovo\\appdata\\roaming\\python\\python39\\site-packages (from ipython>=7.23.1->ipykernel>=5.1.2->pydeck>=0.1.dev5->streamlit) (0.2.0)\n",
      "Requirement already satisfied: decorator in c:\\users\\lenovo\\appdata\\roaming\\python\\python39\\site-packages (from ipython>=7.23.1->ipykernel>=5.1.2->pydeck>=0.1.dev5->streamlit) (5.1.1)\n",
      "Requirement already satisfied: pickleshare in c:\\users\\lenovo\\appdata\\roaming\\python\\python39\\site-packages (from ipython>=7.23.1->ipykernel>=5.1.2->pydeck>=0.1.dev5->streamlit) (0.7.5)\n",
      "Requirement already satisfied: pygments>=2.4.0 in c:\\users\\lenovo\\appdata\\roaming\\python\\python39\\site-packages (from ipython>=7.23.1->ipykernel>=5.1.2->pydeck>=0.1.dev5->streamlit) (2.11.2)\n",
      "Requirement already satisfied: prompt-toolkit!=3.0.0,!=3.0.1,<3.1.0,>=2.0.0 in c:\\users\\lenovo\\appdata\\roaming\\python\\python39\\site-packages (from ipython>=7.23.1->ipykernel>=5.1.2->pydeck>=0.1.dev5->streamlit) (3.0.28)\n",
      "Requirement already satisfied: backcall in c:\\users\\lenovo\\appdata\\roaming\\python\\python39\\site-packages (from ipython>=7.23.1->ipykernel>=5.1.2->pydeck>=0.1.dev5->streamlit) (0.2.0)\n",
      "Requirement already satisfied: jedi>=0.16 in c:\\users\\lenovo\\appdata\\roaming\\python\\python39\\site-packages (from ipython>=7.23.1->ipykernel>=5.1.2->pydeck>=0.1.dev5->streamlit) (0.18.1)\n",
      "Requirement already satisfied: widgetsnbextension~=3.5.0 in c:\\users\\lenovo\\anaconda3\\lib\\site-packages (from ipywidgets>=7.0.0->pydeck>=0.1.dev5->streamlit) (3.5.2)\n",
      "Requirement already satisfied: nbformat>=4.2.0 in c:\\users\\lenovo\\anaconda3\\lib\\site-packages (from ipywidgets>=7.0.0->pydeck>=0.1.dev5->streamlit) (5.1.3)\n",
      "Requirement already satisfied: ipython-genutils~=0.2.0 in c:\\users\\lenovo\\anaconda3\\lib\\site-packages (from ipywidgets>=7.0.0->pydeck>=0.1.dev5->streamlit) (0.2.0)\n",
      "Requirement already satisfied: jupyterlab-widgets>=1.0.0 in c:\\users\\lenovo\\anaconda3\\lib\\site-packages (from ipywidgets>=7.0.0->pydeck>=0.1.dev5->streamlit) (1.0.0)\n",
      "Requirement already satisfied: parso<0.9.0,>=0.8.0 in c:\\users\\lenovo\\appdata\\roaming\\python\\python39\\site-packages (from jedi>=0.16->ipython>=7.23.1->ipykernel>=5.1.2->pydeck>=0.1.dev5->streamlit) (0.8.3)\n",
      "Requirement already satisfied: MarkupSafe>=0.23 in c:\\users\\lenovo\\anaconda3\\lib\\site-packages (from jinja2->altair>=3.2.0->streamlit) (2.0.1)\n",
      "Requirement already satisfied: jupyter-core>=4.6.0 in c:\\users\\lenovo\\appdata\\roaming\\python\\python39\\site-packages (from jupyter-client<8.0->ipykernel>=5.1.2->pydeck>=0.1.dev5->streamlit) (4.9.2)\n",
      "Requirement already satisfied: pyzmq>=13 in c:\\users\\lenovo\\appdata\\roaming\\python\\python39\\site-packages (from jupyter-client<8.0->ipykernel>=5.1.2->pydeck>=0.1.dev5->streamlit) (22.3.0)\n",
      "Requirement already satisfied: pywin32>=1.0 in c:\\users\\lenovo\\appdata\\roaming\\python\\python39\\site-packages (from jupyter-core>=4.6.0->jupyter-client<8.0->ipykernel>=5.1.2->pydeck>=0.1.dev5->streamlit) (303)\n",
      "Requirement already satisfied: wcwidth in c:\\users\\lenovo\\appdata\\roaming\\python\\python39\\site-packages (from prompt-toolkit!=3.0.0,!=3.0.1,<3.1.0,>=2.0.0->ipython>=7.23.1->ipykernel>=5.1.2->pydeck>=0.1.dev5->streamlit) (0.2.5)\n",
      "Requirement already satisfied: notebook>=4.4.1 in c:\\users\\lenovo\\anaconda3\\lib\\site-packages (from widgetsnbextension~=3.5.0->ipywidgets>=7.0.0->pydeck>=0.1.dev5->streamlit) (6.4.8)\n",
      "Requirement already satisfied: argon2-cffi in c:\\users\\lenovo\\anaconda3\\lib\\site-packages (from notebook>=4.4.1->widgetsnbextension~=3.5.0->ipywidgets>=7.0.0->pydeck>=0.1.dev5->streamlit) (21.3.0)\n",
      "Requirement already satisfied: Send2Trash>=1.8.0 in c:\\users\\lenovo\\anaconda3\\lib\\site-packages (from notebook>=4.4.1->widgetsnbextension~=3.5.0->ipywidgets>=7.0.0->pydeck>=0.1.dev5->streamlit) (1.8.0)\n",
      "Requirement already satisfied: prometheus-client in c:\\users\\lenovo\\anaconda3\\lib\\site-packages (from notebook>=4.4.1->widgetsnbextension~=3.5.0->ipywidgets>=7.0.0->pydeck>=0.1.dev5->streamlit) (0.13.1)\n",
      "Requirement already satisfied: terminado>=0.8.3 in c:\\users\\lenovo\\anaconda3\\lib\\site-packages (from notebook>=4.4.1->widgetsnbextension~=3.5.0->ipywidgets>=7.0.0->pydeck>=0.1.dev5->streamlit) (0.13.1)\n",
      "Requirement already satisfied: nbconvert in c:\\users\\lenovo\\anaconda3\\lib\\site-packages (from notebook>=4.4.1->widgetsnbextension~=3.5.0->ipywidgets>=7.0.0->pydeck>=0.1.dev5->streamlit) (6.1.0)\n",
      "Requirement already satisfied: pywinpty>=1.1.0 in c:\\users\\lenovo\\anaconda3\\lib\\site-packages (from terminado>=0.8.3->notebook>=4.4.1->widgetsnbextension~=3.5.0->ipywidgets>=7.0.0->pydeck>=0.1.dev5->streamlit) (2.0.2)\n",
      "Requirement already satisfied: argon2-cffi-bindings in c:\\users\\lenovo\\anaconda3\\lib\\site-packages (from argon2-cffi->notebook>=4.4.1->widgetsnbextension~=3.5.0->ipywidgets>=7.0.0->pydeck>=0.1.dev5->streamlit) (21.2.0)\n",
      "Requirement already satisfied: cffi>=1.0.1 in c:\\users\\lenovo\\anaconda3\\lib\\site-packages (from argon2-cffi-bindings->argon2-cffi->notebook>=4.4.1->widgetsnbextension~=3.5.0->ipywidgets>=7.0.0->pydeck>=0.1.dev5->streamlit) (1.15.0)\n",
      "Requirement already satisfied: pycparser in c:\\users\\lenovo\\anaconda3\\lib\\site-packages (from cffi>=1.0.1->argon2-cffi-bindings->argon2-cffi->notebook>=4.4.1->widgetsnbextension~=3.5.0->ipywidgets>=7.0.0->pydeck>=0.1.dev5->streamlit) (2.21)\n",
      "Requirement already satisfied: nbclient<0.6.0,>=0.5.0 in c:\\users\\lenovo\\anaconda3\\lib\\site-packages (from nbconvert->notebook>=4.4.1->widgetsnbextension~=3.5.0->ipywidgets>=7.0.0->pydeck>=0.1.dev5->streamlit) (0.5.11)\n",
      "Requirement already satisfied: testpath in c:\\users\\lenovo\\anaconda3\\lib\\site-packages (from nbconvert->notebook>=4.4.1->widgetsnbextension~=3.5.0->ipywidgets>=7.0.0->pydeck>=0.1.dev5->streamlit) (0.5.0)\n",
      "Requirement already satisfied: pandocfilters>=1.4.1 in c:\\users\\lenovo\\anaconda3\\lib\\site-packages (from nbconvert->notebook>=4.4.1->widgetsnbextension~=3.5.0->ipywidgets>=7.0.0->pydeck>=0.1.dev5->streamlit) (1.5.0)\n",
      "Requirement already satisfied: mistune<2,>=0.8.1 in c:\\users\\lenovo\\anaconda3\\lib\\site-packages (from nbconvert->notebook>=4.4.1->widgetsnbextension~=3.5.0->ipywidgets>=7.0.0->pydeck>=0.1.dev5->streamlit) (0.8.4)\n",
      "Requirement already satisfied: bleach in c:\\users\\lenovo\\anaconda3\\lib\\site-packages (from nbconvert->notebook>=4.4.1->widgetsnbextension~=3.5.0->ipywidgets>=7.0.0->pydeck>=0.1.dev5->streamlit) (4.1.0)\n",
      "Requirement already satisfied: jupyterlab-pygments in c:\\users\\lenovo\\anaconda3\\lib\\site-packages (from nbconvert->notebook>=4.4.1->widgetsnbextension~=3.5.0->ipywidgets>=7.0.0->pydeck>=0.1.dev5->streamlit) (0.1.2)\n",
      "Requirement already satisfied: defusedxml in c:\\users\\lenovo\\anaconda3\\lib\\site-packages (from nbconvert->notebook>=4.4.1->widgetsnbextension~=3.5.0->ipywidgets>=7.0.0->pydeck>=0.1.dev5->streamlit) (0.7.1)\n",
      "Requirement already satisfied: webencodings in c:\\users\\lenovo\\anaconda3\\lib\\site-packages (from bleach->nbconvert->notebook>=4.4.1->widgetsnbextension~=3.5.0->ipywidgets>=7.0.0->pydeck>=0.1.dev5->streamlit) (0.5.1)\n",
      "Requirement already satisfied: pyparsing!=3.0.5,>=2.0.2 in c:\\users\\lenovo\\anaconda3\\lib\\site-packages (from packaging->streamlit) (3.0.4)\n",
      "Requirement already satisfied: urllib3<1.27,>=1.21.1 in c:\\users\\lenovo\\anaconda3\\lib\\site-packages (from requests->streamlit) (1.26.8)\n",
      "Requirement already satisfied: idna<4,>=2.5 in c:\\users\\lenovo\\anaconda3\\lib\\site-packages (from requests->streamlit) (3.3)\n",
      "Requirement already satisfied: charset-normalizer~=2.0.0 in c:\\users\\lenovo\\anaconda3\\lib\\site-packages (from requests->streamlit) (2.0.4)\n",
      "Requirement already satisfied: certifi>=2017.4.17 in c:\\users\\lenovo\\anaconda3\\lib\\site-packages (from requests->streamlit) (2021.10.8)\n",
      "Requirement already satisfied: executing in c:\\users\\lenovo\\appdata\\roaming\\python\\python39\\site-packages (from stack-data->ipython>=7.23.1->ipykernel>=5.1.2->pydeck>=0.1.dev5->streamlit) (0.8.3)\n",
      "Requirement already satisfied: pure-eval in c:\\users\\lenovo\\appdata\\roaming\\python\\python39\\site-packages (from stack-data->ipython>=7.23.1->ipykernel>=5.1.2->pydeck>=0.1.dev5->streamlit) (0.2.2)\n",
      "Requirement already satisfied: asttokens in c:\\users\\lenovo\\appdata\\roaming\\python\\python39\\site-packages (from stack-data->ipython>=7.23.1->ipykernel>=5.1.2->pydeck>=0.1.dev5->streamlit) (2.0.5)\n",
      "Collecting tzdata\n",
      "  Downloading tzdata-2022.1-py2.py3-none-any.whl (339 kB)\n",
      "Collecting pytz-deprecation-shim\n",
      "  Downloading pytz_deprecation_shim-0.1.0.post0-py2.py3-none-any.whl (15 kB)\n",
      "Building wheels for collected packages: blinker\n",
      "  Building wheel for blinker (setup.py): started\n",
      "  Building wheel for blinker (setup.py): finished with status 'done'\n",
      "  Created wheel for blinker: filename=blinker-1.4-py3-none-any.whl size=13478 sha256=e5b64238fae262bcd3df01ce0b17d87d987e0ee2d087786a494acfd01f439876\n",
      "  Stored in directory: c:\\users\\lenovo\\appdata\\local\\pip\\cache\\wheels\\50\\93\\f8\\4f0a42a03a06626d675f13907b6982ad5ecff383530af5a900\n",
      "Successfully built blinker\n",
      "Installing collected packages: tzdata, smmap, pytz-deprecation-shim, gitdb, validators, tzlocal, semver, pympler, pydeck, pyarrow, gitpython, blinker, altair, streamlit\n",
      "Successfully installed altair-4.2.0 blinker-1.4 gitdb-4.0.9 gitpython-3.1.27 pyarrow-7.0.0 pydeck-0.7.1 pympler-1.0.1 pytz-deprecation-shim-0.1.0.post0 semver-2.13.0 smmap-5.0.0 streamlit-1.8.0 tzdata-2022.1 tzlocal-4.1 validators-0.18.2\n"
     ]
    }
   ],
   "source": [
    "#deploy model using streamlit\n",
    "pip install streamlit"
   ]
  },
  {
   "cell_type": "code",
   "execution_count": 16,
   "id": "ebdb59ec",
   "metadata": {},
   "outputs": [
    {
     "name": "stdout",
     "output_type": "stream",
     "text": [
      "Collecting pyngrokNote: you may need to restart the kernel to use updated packages.\n",
      "  Downloading pyngrok-5.1.0.tar.gz (745 kB)\n",
      "\n",
      "Requirement already satisfied: PyYAML in c:\\users\\lenovo\\anaconda3\\lib\\site-packages (from pyngrok) (6.0)\n",
      "Building wheels for collected packages: pyngrok\n",
      "  Building wheel for pyngrok (setup.py): started\n",
      "  Building wheel for pyngrok (setup.py): finished with status 'done'\n",
      "  Created wheel for pyngrok: filename=pyngrok-5.1.0-py3-none-any.whl size=19007 sha256=8f90424e1c48cd99e7825f8e9f61f597b48f8f16a8c317f62cdc6b31b00a0444\n",
      "  Stored in directory: c:\\users\\lenovo\\appdata\\local\\pip\\cache\\wheels\\a8\\05\\30\\c9d9f2417546c7a7c329f5bba09e2cfba9991c030ad8bfb043\n",
      "Successfully built pyngrok\n",
      "Installing collected packages: pyngrok\n",
      "Successfully installed pyngrok-5.1.0\n"
     ]
    }
   ],
   "source": [
    "pip install pyngrok"
   ]
  },
  {
   "cell_type": "code",
   "execution_count": 17,
   "id": "88a808b5",
   "metadata": {},
   "outputs": [],
   "source": [
    "from pyngrok import ngrok"
   ]
  },
  {
   "cell_type": "code",
   "execution_count": 36,
   "id": "b8120d09",
   "metadata": {},
   "outputs": [
    {
     "name": "stdout",
     "output_type": "stream",
     "text": [
      "Overwriting app.py\n"
     ]
    }
   ],
   "source": [
    "%%writefile app.py\n",
    "import streamlit as st\n",
    "import numpy as np\n",
    "from skimage.io import imread\n",
    "from skimage.transform import resize\n",
    "import pickle\n",
    "from PIL import Image\n",
    "\n",
    "st.set_option('deprecation.showfileUploaderEncoding', False)\n",
    "st.title('FISHES IMAGE CLASSIFIER USING STREAMLIT')\n",
    "st.text('UPLOAD THE IMAGE')\n",
    "\n",
    "model = pickle.load(open('img_model.p','rb')) \n",
    "\n",
    "uploaded_file = st.file_uploader(\"Choose an image\", type=\"jpg\")\n",
    "\n",
    "if uploaded_file is not None:\n",
    "    img = Image.open(uploaded_file)\n",
    "    st.image(img,caption='Uploaded Image')\n",
    "    \n",
    "    if st.button('PREDICT'):\n",
    "        CATEGORIES = ['hammerhead shark','Most Beautiful Goldfish','peppermint angelfish']\n",
    "        st.write('RESULT')\n",
    "        flat_data = []\n",
    "        img = np.array(img)\n",
    "        img_resized = resize(img,(150,150,3))\n",
    "        flat_data.append(img_resized.flatten())\n",
    "        flat_data = np.array(flat_data)\n",
    "        st.write(img.shape)\n",
    "        #plt.imshow(img_resized)\n",
    "        y_out = model.predict(flat_data)\n",
    "        y_out = CATEGORIES[y_out[0]]\n",
    "        st.title(f' PREDICTED OUTPUT: {y_out}')\n",
    "        q = model.predict_proba(flat_data)\n",
    "        for index, item in enumerate(CATEGORIES):\n",
    "            st.write(f'{item} : {q[0][index]*100}%')\n",
    "        "
   ]
  },
  {
   "cell_type": "code",
   "execution_count": 25,
   "id": "41f4bad9",
   "metadata": {},
   "outputs": [],
   "source": [
    "#!nohup streamlit run app.py \n",
    "#url = ngrok.connect(port='8501')\n",
    "#url"
   ]
  },
  {
   "cell_type": "code",
   "execution_count": null,
   "id": "aae2caa0",
   "metadata": {},
   "outputs": [],
   "source": []
  }
 ],
 "metadata": {
  "kernelspec": {
   "display_name": "Python 3 (ipykernel)",
   "language": "python",
   "name": "python3"
  },
  "language_info": {
   "codemirror_mode": {
    "name": "ipython",
    "version": 3
   },
   "file_extension": ".py",
   "mimetype": "text/x-python",
   "name": "python",
   "nbconvert_exporter": "python",
   "pygments_lexer": "ipython3",
   "version": "3.9.7"
  }
 },
 "nbformat": 4,
 "nbformat_minor": 5
}
